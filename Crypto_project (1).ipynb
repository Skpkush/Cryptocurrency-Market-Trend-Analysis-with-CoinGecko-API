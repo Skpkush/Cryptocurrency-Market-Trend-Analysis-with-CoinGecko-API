{
  "nbformat": 4,
  "nbformat_minor": 0,
  "metadata": {
    "colab": {
      "provenance": []
    },
    "kernelspec": {
      "name": "python3",
      "display_name": "Python 3"
    },
    "language_info": {
      "name": "python"
    }
  },
  "cells": [
    {
      "cell_type": "code",
      "source": [
        "import requests\n",
        "import pandas as pd\n",
        "from datetime import datetime\n",
        "import os"
      ],
      "metadata": {
        "id": "pmX16oTrKXf5"
      },
      "execution_count": 26,
      "outputs": []
    },
    {
      "cell_type": "code",
      "source": [
        "# Define API parameters\n",
        "url = 'https://api.coingecko.com/api/v3/coins/markets'\n",
        "param = {\n",
        "    'vs_currency': 'usd',\n",
        "    'order': 'market_cap_desc',\n",
        "    'per_page': 100,\n",
        "    'page': 1,\n",
        "}"
      ],
      "metadata": {
        "id": "Z6uUYGdwK7f7"
      },
      "execution_count": 14,
      "outputs": []
    },
    {
      "cell_type": "code",
      "source": [
        "# Fetch Data\n",
        "response = requests.get(url, params=params)\n",
        "if response.status_code == 200:\n",
        "    print(\"Data retrieved successfully.\")\n",
        "    data = response.json()\n",
        "\n",
        "    # Create DataFrame\n",
        "    df = pd.DataFrame(data)\n",
        "    df = df[['id', 'current_price', 'market_cap', 'price_change_percentage_24h', 'ath', 'atl']]\n",
        "\n",
        "    # Add timestamp\n",
        "    today = datetime.now().strftime(\"%Y-%m-%d_%H-%M-%S\")\n",
        "    df['timestamp'] = today\n",
        "\n",
        "    # Save data with timestamp\n",
        "    if not os.path.exists(\"crypto_data\"):\n",
        "        os.makedirs(\"crypto_data\")\n",
        "    df.to_csv(f'crypto_data/daily_data_{today}.csv', index=False)\n",
        "    print(\"Data saved successfully.\")\n",
        "\n",
        "else:\n",
        "    print(f\"Error retrieving data: {response.status_code}\")\n"
      ],
      "metadata": {
        "colab": {
          "base_uri": "https://localhost:8080/"
        },
        "id": "uoM_nn6-MsoD",
        "outputId": "5108dabe-8525-4343-ada0-9e62cc08d639"
      },
      "execution_count": 43,
      "outputs": [
        {
          "output_type": "stream",
          "name": "stdout",
          "text": [
            "Data retrieved successfully.\n",
            "Data saved successfully.\n"
          ]
        }
      ]
    },
    {
      "cell_type": "code",
      "source": [
        "# Adding a 7-day moving average of the current price (example)\n",
        "df['7_day_MA'] = df['current_price'].rolling(window=7).mean()\n",
        "\n",
        "# Relative Strength Index (RSI) Calculation\n",
        "def calculate_rsi(data, window=14):\n",
        "    delta = data['current_price'].diff(1)\n",
        "    gain = (delta.where(delta > 0, 0)).rolling(window=window).mean()\n",
        "    loss = (-delta.where(delta < 0, 0)).rolling(window=window).mean()\n",
        "    rs = gain / loss\n",
        "    rsi = 100 - (100 / (1 + rs))\n",
        "    return rsi\n",
        "\n",
        "df['RSI'] = calculate_rsi(df)\n"
      ],
      "metadata": {
        "id": "d92IVm1gbUqj"
      },
      "execution_count": 28,
      "outputs": []
    },
    {
      "cell_type": "code",
      "source": [
        "# Set thresholds for alerts\n",
        "ALERT_THRESHOLD = 10  # 10% change as an example\n",
        "\n",
        "# Identify significant price changes\n",
        "significant_changes = df[abs(df['price_change_percentage_24h']) >= ALERT_THRESHOLD]\n",
        "\n",
        "# Print alerts\n",
        "for _, row in significant_changes.iterrows():\n",
        "    if row['price_change_percentage_24h'] > 0:\n",
        "        print(f\"🔼 {row['id']} has increased by {row['price_change_percentage_24h']}%\")\n",
        "    else:\n",
        "        print(f\"🔻 {row['id']} has decreased by {row['price_change_percentage_24h']}%\")\n"
      ],
      "metadata": {
        "colab": {
          "base_uri": "https://localhost:8080/"
        },
        "id": "pl_moXWqbU27",
        "outputId": "15fc93ba-2bf2-4ff4-931f-5d5728a7df0d"
      },
      "execution_count": 29,
      "outputs": [
        {
          "output_type": "stream",
          "name": "stdout",
          "text": [
            "🔼 pepe has increased by 57.62723%\n",
            "🔼 dogwifcoin has increased by 32.36219%\n",
            "🔼 bonk has increased by 15.65365%\n",
            "🔼 floki has increased by 12.72754%\n",
            "🔼 peanut-the-squirrel has increased by 40.03187%\n",
            "🔼 popcat has increased by 25.21179%\n",
            "🔼 based-brett has increased by 30.62562%\n",
            "🔼 bitcoin-cash-sv has increased by 20.22965%\n",
            "🔼 bittorrent has increased by 10.63987%\n",
            "🔼 cat-in-a-dogs-world has increased by 20.6083%\n"
          ]
        }
      ]
    },
    {
      "cell_type": "code",
      "source": [
        "# Placeholder for sentiment analysis (e.g., Twitter or News API)\n",
        "def analyze_sentiment(crypto_id):\n",
        "    # Placeholder function for sentiment analysis\n",
        "    # In reality, you’d call an API and process sentiment from tweets or news articles\n",
        "    # For now, let’s assume a random sentiment for demonstration purposes\n",
        "    import random\n",
        "    sentiment = random.choice(['Positive', 'Negative', 'Neutral'])\n",
        "    return sentiment\n",
        "\n",
        "df['sentiment'] = df['id'].apply(analyze_sentiment)\n",
        "print(df[['id', 'sentiment']].head())\n"
      ],
      "metadata": {
        "colab": {
          "base_uri": "https://localhost:8080/"
        },
        "id": "cNieI9z0blq3",
        "outputId": "09e1794b-49d7-4d5a-f588-94284be67db6"
      },
      "execution_count": 30,
      "outputs": [
        {
          "output_type": "stream",
          "name": "stdout",
          "text": [
            "            id sentiment\n",
            "0      bitcoin   Neutral\n",
            "1     ethereum   Neutral\n",
            "2       tether  Positive\n",
            "3       solana  Negative\n",
            "4  binancecoin  Positive\n"
          ]
        }
      ]
    },
    {
      "cell_type": "code",
      "source": [
        "import matplotlib.pyplot as plt\n",
        "\n",
        "# Top 10 cryptos by market cap\n",
        "top_10 = df.nlargest(10, 'market_cap')\n",
        "\n",
        "plt.figure(figsize=(12, 6))\n",
        "plt.bar(top_10['id'], top_10['market_cap'], color='blue')\n",
        "plt.xlabel(\"Cryptocurrency\")\n",
        "plt.ylabel(\"Market Cap (USD)\")\n",
        "plt.title(\"Top 10 Cryptocurrencies by Market Cap\")\n",
        "plt.xticks(rotation=45)\n",
        "plt.show()\n"
      ],
      "metadata": {
        "colab": {
          "base_uri": "https://localhost:8080/",
          "height": 622
        },
        "id": "L0UZ8V1XbwnB",
        "outputId": "fdbe851d-132f-4481-ad0c-9af84980f2d9"
      },
      "execution_count": 31,
      "outputs": [
        {
          "output_type": "display_data",
          "data": {
            "text/plain": [
              "<Figure size 1200x600 with 1 Axes>"
            ],
            "image/png": "[encoded data removed]"
          },
          "metadata": {}
        }
      ]
    },
    {
      "cell_type": "code",
      "source": [
        "import sqlite3\n",
        "\n",
        "# Connect to SQLite database (or create it if it doesn't exist)\n",
        "conn = sqlite3.connect(\"crypto_data.db\")\n",
        "df.to_sql(\"crypto_data\", conn, if_exists=\"append\", index=False)\n",
        "conn.close()\n",
        "print(\"Data saved to database.\")\n"
      ],
      "metadata": {
        "colab": {
          "base_uri": "https://localhost:8080/"
        },
        "id": "riBeDOVvb2uf",
        "outputId": "31a29ab0-00aa-49b3-bd1c-f3f72cf9920b"
      },
      "execution_count": 32,
      "outputs": [
        {
          "output_type": "stream",
          "name": "stdout",
          "text": [
            "Data saved to database.\n"
          ]
        }
      ]
    },
    {
      "cell_type": "code",
      "source": [
        "from statsmodels.tsa.arima.model import ARIMA\n",
        "\n",
        "# Example ARIMA model on historical data (assumes a historical dataset)\n",
        "historical_prices = df['current_price'].values  # Example only\n",
        "model = ARIMA(historical_prices, order=(5, 1, 0))  # Adjust order as needed\n",
        "model_fit = model.fit()\n",
        "forecast = model_fit.forecast(steps=7)  # 7-day forecast\n",
        "print(\"7-day forecast:\", forecast)\n"
      ],
      "metadata": {
        "colab": {
          "base_uri": "https://localhost:8080/"
        },
        "id": "uW2Up4q6b45p",
        "outputId": "bfcd9a65-5860-46e7-8873-3f2b85ce7703"
      },
      "execution_count": 33,
      "outputs": [
        {
          "output_type": "stream",
          "name": "stdout",
          "text": [
            "7-day forecast: [12409.71611358 13706.12039954 14820.52068977 39620.32561357\n",
            " 19321.66896201 16062.50138494 18303.38636601]\n"
          ]
        }
      ]
    },
    {
      "cell_type": "code",
      "source": [
        "# Example Sharpe Ratio calculation\n",
        "risk_free_rate = 0.01  # Assuming a risk-free rate\n",
        "returns = df['price_change_percentage_24h'] / 100\n",
        "sharpe_ratio = (returns.mean() - risk_free_rate) / returns.std()\n",
        "df['sharpe_ratio'] = sharpe_ratio\n",
        "print(\"Sharpe Ratio:\", sharpe_ratio)\n"
      ],
      "metadata": {
        "colab": {
          "base_uri": "https://localhost:8080/"
        },
        "id": "ZWgxcKhOcJeM",
        "outputId": "c342c667-58de-4912-b442-927690351649"
      },
      "execution_count": 42,
      "outputs": [
        {
          "output_type": "stream",
          "name": "stdout",
          "text": [
            "Sharpe Ratio: 0.25441311165474706\n"
          ]
        }
      ]
    }
  ]
}